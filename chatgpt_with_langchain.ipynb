{
 "cells": [
  {
   "cell_type": "markdown",
   "source": [
    "Конфигурационные параметры"
   ],
   "metadata": {
    "collapsed": false,
    "pycharm": {
     "name": "#%% md\n"
    }
   }
  },
  {
   "cell_type": "code",
   "execution_count": 1,
   "metadata": {
    "collapsed": true,
    "pycharm": {
     "name": "#%%\n"
    }
   },
   "outputs": [],
   "source": [
    "import os\n",
    "from dotenv import load_dotenv\n",
    "\n",
    "\n",
    "load_dotenv()\n",
    "openai_api_key = os.getenv('OPENAI_API_KEY')"
   ]
  },
  {
   "cell_type": "code",
   "execution_count": 8,
   "outputs": [],
   "source": [
    "from langchain.chat_models import ChatOpenAI\n",
    "from langchain.prompts import PromptTemplate\n",
    "from langchain.chains import LLMChain\n",
    "\n",
    "openai_llm = ChatOpenAI(\n",
    "    openai_api_key=openai_api_key,\n",
    "    temperature=0.0,\n",
    "    model_name='gpt-3.5-turbo'\n",
    ")\n",
    "template = \"\"\"Question: {question}\n",
    "\n",
    "Answer: Let's think step by step.\"\"\"\n",
    "\n",
    "prompt = PromptTemplate(template=template, input_variables=[\"question\"])"
   ],
   "metadata": {
    "collapsed": false,
    "pycharm": {
     "name": "#%%\n"
    }
   }
  },
  {
   "cell_type": "code",
   "execution_count": 9,
   "outputs": [],
   "source": [
    "llm_chain = LLMChain(prompt=prompt, llm=openai_llm)"
   ],
   "metadata": {
    "collapsed": false,
    "pycharm": {
     "name": "#%%\n"
    }
   }
  },
  {
   "cell_type": "code",
   "execution_count": 10,
   "outputs": [
    {
     "data": {
      "text/plain": "'Justin Bieber was born on March 1, 1994. To determine the NFL team that won the Super Bowl in that year, we need to look at the Super Bowl that took place during the 1993 NFL season. \\n\\nThe Super Bowl for the 1993 season was Super Bowl XXVIII, held on January 30, 1994. The two teams that competed in that Super Bowl were the Dallas Cowboys and the Buffalo Bills. \\n\\nThe Dallas Cowboys emerged as the winners of Super Bowl XXVIII, defeating the Buffalo Bills with a score of 30-13. Therefore, the Dallas Cowboys won the Super Bowl in the year Justin Bieber was born.'"
     },
     "execution_count": 10,
     "metadata": {},
     "output_type": "execute_result"
    }
   ],
   "source": [
    "question = \"What NFL team won the Super Bowl in the year Justin Beiber was born?\"\n",
    "\n",
    "llm_chain.run(question)"
   ],
   "metadata": {
    "collapsed": false,
    "pycharm": {
     "name": "#%%\n"
    }
   }
  },
  {
   "cell_type": "markdown",
   "source": [
    "preparing data"
   ],
   "metadata": {
    "collapsed": false,
    "pycharm": {
     "name": "#%% md\n"
    }
   }
  },
  {
   "cell_type": "code",
   "execution_count": 16,
   "outputs": [
    {
     "ename": "ImportError",
     "evalue": "partition_md is not available. Install the md dependencies with pip install \"unstructured[md]\"",
     "output_type": "error",
     "traceback": [
      "\u001B[1;31m---------------------------------------------------------------------------\u001B[0m",
      "\u001B[1;31mImportError\u001B[0m                               Traceback (most recent call last)",
      "Cell \u001B[1;32mIn[16], line 27\u001B[0m\n\u001B[0;32m     22\u001B[0m     \u001B[38;5;28mprint\u001B[39m(document\u001B[38;5;241m.\u001B[39mmetadata)\n\u001B[0;32m     24\u001B[0m     \u001B[38;5;28;01mreturn\u001B[39;00m chunks\n\u001B[1;32m---> 27\u001B[0m split_text(\u001B[43mload_documents\u001B[49m\u001B[43m(\u001B[49m\u001B[43m)\u001B[49m)\n",
      "Cell \u001B[1;32mIn[16], line 7\u001B[0m, in \u001B[0;36mload_documents\u001B[1;34m()\u001B[0m\n\u001B[0;32m      5\u001B[0m \u001B[38;5;28;01mdef\u001B[39;00m \u001B[38;5;21mload_documents\u001B[39m():\n\u001B[0;32m      6\u001B[0m     loader \u001B[38;5;241m=\u001B[39m DirectoryLoader(data_path, glob\u001B[38;5;241m=\u001B[39m\u001B[38;5;124m\"\u001B[39m\u001B[38;5;124m*.md\u001B[39m\u001B[38;5;124m\"\u001B[39m)\n\u001B[1;32m----> 7\u001B[0m     documents \u001B[38;5;241m=\u001B[39m \u001B[43mloader\u001B[49m\u001B[38;5;241;43m.\u001B[39;49m\u001B[43mload\u001B[49m\u001B[43m(\u001B[49m\u001B[43m)\u001B[49m\n\u001B[0;32m      8\u001B[0m     \u001B[38;5;28;01mreturn\u001B[39;00m documents\n",
      "File \u001B[1;32m~\\PycharmProjects\\pro_test\\venv\\Lib\\site-packages\\langchain_community\\document_loaders\\directory.py:157\u001B[0m, in \u001B[0;36mDirectoryLoader.load\u001B[1;34m(self)\u001B[0m\n\u001B[0;32m    155\u001B[0m \u001B[38;5;28;01melse\u001B[39;00m:\n\u001B[0;32m    156\u001B[0m     \u001B[38;5;28;01mfor\u001B[39;00m i \u001B[38;5;129;01min\u001B[39;00m items:\n\u001B[1;32m--> 157\u001B[0m         \u001B[38;5;28;43mself\u001B[39;49m\u001B[38;5;241;43m.\u001B[39;49m\u001B[43mload_file\u001B[49m\u001B[43m(\u001B[49m\u001B[43mi\u001B[49m\u001B[43m,\u001B[49m\u001B[43m \u001B[49m\u001B[43mp\u001B[49m\u001B[43m,\u001B[49m\u001B[43m \u001B[49m\u001B[43mdocs\u001B[49m\u001B[43m,\u001B[49m\u001B[43m \u001B[49m\u001B[43mpbar\u001B[49m\u001B[43m)\u001B[49m\n\u001B[0;32m    159\u001B[0m \u001B[38;5;28;01mif\u001B[39;00m pbar:\n\u001B[0;32m    160\u001B[0m     pbar\u001B[38;5;241m.\u001B[39mclose()\n",
      "File \u001B[1;32m~\\PycharmProjects\\pro_test\\venv\\Lib\\site-packages\\langchain_community\\document_loaders\\directory.py:106\u001B[0m, in \u001B[0;36mDirectoryLoader.load_file\u001B[1;34m(self, item, path, docs, pbar)\u001B[0m\n\u001B[0;32m    104\u001B[0m         logger\u001B[38;5;241m.\u001B[39mwarning(\u001B[38;5;124mf\u001B[39m\u001B[38;5;124m\"\u001B[39m\u001B[38;5;124mError loading file \u001B[39m\u001B[38;5;132;01m{\u001B[39;00m\u001B[38;5;28mstr\u001B[39m(item)\u001B[38;5;132;01m}\u001B[39;00m\u001B[38;5;124m: \u001B[39m\u001B[38;5;132;01m{\u001B[39;00me\u001B[38;5;132;01m}\u001B[39;00m\u001B[38;5;124m\"\u001B[39m)\n\u001B[0;32m    105\u001B[0m     \u001B[38;5;28;01melse\u001B[39;00m:\n\u001B[1;32m--> 106\u001B[0m         \u001B[38;5;28;01mraise\u001B[39;00m e\n\u001B[0;32m    107\u001B[0m \u001B[38;5;28;01mfinally\u001B[39;00m:\n\u001B[0;32m    108\u001B[0m     \u001B[38;5;28;01mif\u001B[39;00m pbar:\n",
      "File \u001B[1;32m~\\PycharmProjects\\pro_test\\venv\\Lib\\site-packages\\langchain_community\\document_loaders\\directory.py:100\u001B[0m, in \u001B[0;36mDirectoryLoader.load_file\u001B[1;34m(self, item, path, docs, pbar)\u001B[0m\n\u001B[0;32m     98\u001B[0m \u001B[38;5;28;01mtry\u001B[39;00m:\n\u001B[0;32m     99\u001B[0m     logger\u001B[38;5;241m.\u001B[39mdebug(\u001B[38;5;124mf\u001B[39m\u001B[38;5;124m\"\u001B[39m\u001B[38;5;124mProcessing file: \u001B[39m\u001B[38;5;132;01m{\u001B[39;00m\u001B[38;5;28mstr\u001B[39m(item)\u001B[38;5;132;01m}\u001B[39;00m\u001B[38;5;124m\"\u001B[39m)\n\u001B[1;32m--> 100\u001B[0m     sub_docs \u001B[38;5;241m=\u001B[39m \u001B[38;5;28;43mself\u001B[39;49m\u001B[38;5;241;43m.\u001B[39;49m\u001B[43mloader_cls\u001B[49m\u001B[43m(\u001B[49m\u001B[38;5;28;43mstr\u001B[39;49m\u001B[43m(\u001B[49m\u001B[43mitem\u001B[49m\u001B[43m)\u001B[49m\u001B[43m,\u001B[49m\u001B[43m \u001B[49m\u001B[38;5;241;43m*\u001B[39;49m\u001B[38;5;241;43m*\u001B[39;49m\u001B[38;5;28;43mself\u001B[39;49m\u001B[38;5;241;43m.\u001B[39;49m\u001B[43mloader_kwargs\u001B[49m\u001B[43m)\u001B[49m\u001B[38;5;241;43m.\u001B[39;49m\u001B[43mload\u001B[49m\u001B[43m(\u001B[49m\u001B[43m)\u001B[49m\n\u001B[0;32m    101\u001B[0m     docs\u001B[38;5;241m.\u001B[39mextend(sub_docs)\n\u001B[0;32m    102\u001B[0m \u001B[38;5;28;01mexcept\u001B[39;00m \u001B[38;5;167;01mException\u001B[39;00m \u001B[38;5;28;01mas\u001B[39;00m e:\n",
      "File \u001B[1;32m~\\PycharmProjects\\pro_test\\venv\\Lib\\site-packages\\langchain_community\\document_loaders\\unstructured.py:87\u001B[0m, in \u001B[0;36mUnstructuredBaseLoader.load\u001B[1;34m(self)\u001B[0m\n\u001B[0;32m     85\u001B[0m \u001B[38;5;28;01mdef\u001B[39;00m \u001B[38;5;21mload\u001B[39m(\u001B[38;5;28mself\u001B[39m) \u001B[38;5;241m-\u001B[39m\u001B[38;5;241m>\u001B[39m List[Document]:\n\u001B[0;32m     86\u001B[0m \u001B[38;5;250m    \u001B[39m\u001B[38;5;124;03m\"\"\"Load file.\"\"\"\u001B[39;00m\n\u001B[1;32m---> 87\u001B[0m     elements \u001B[38;5;241m=\u001B[39m \u001B[38;5;28;43mself\u001B[39;49m\u001B[38;5;241;43m.\u001B[39;49m\u001B[43m_get_elements\u001B[49m\u001B[43m(\u001B[49m\u001B[43m)\u001B[49m\n\u001B[0;32m     88\u001B[0m     \u001B[38;5;28mself\u001B[39m\u001B[38;5;241m.\u001B[39m_post_process_elements(elements)\n\u001B[0;32m     89\u001B[0m     \u001B[38;5;28;01mif\u001B[39;00m \u001B[38;5;28mself\u001B[39m\u001B[38;5;241m.\u001B[39mmode \u001B[38;5;241m==\u001B[39m \u001B[38;5;124m\"\u001B[39m\u001B[38;5;124melements\u001B[39m\u001B[38;5;124m\"\u001B[39m:\n",
      "File \u001B[1;32m~\\PycharmProjects\\pro_test\\venv\\Lib\\site-packages\\langchain_community\\document_loaders\\unstructured.py:173\u001B[0m, in \u001B[0;36mUnstructuredFileLoader._get_elements\u001B[1;34m(self)\u001B[0m\n\u001B[0;32m    170\u001B[0m \u001B[38;5;28;01mdef\u001B[39;00m \u001B[38;5;21m_get_elements\u001B[39m(\u001B[38;5;28mself\u001B[39m) \u001B[38;5;241m-\u001B[39m\u001B[38;5;241m>\u001B[39m List:\n\u001B[0;32m    171\u001B[0m     \u001B[38;5;28;01mfrom\u001B[39;00m \u001B[38;5;21;01munstructured\u001B[39;00m\u001B[38;5;21;01m.\u001B[39;00m\u001B[38;5;21;01mpartition\u001B[39;00m\u001B[38;5;21;01m.\u001B[39;00m\u001B[38;5;21;01mauto\u001B[39;00m \u001B[38;5;28;01mimport\u001B[39;00m partition\n\u001B[1;32m--> 173\u001B[0m     \u001B[38;5;28;01mreturn\u001B[39;00m \u001B[43mpartition\u001B[49m\u001B[43m(\u001B[49m\u001B[43mfilename\u001B[49m\u001B[38;5;241;43m=\u001B[39;49m\u001B[38;5;28;43mself\u001B[39;49m\u001B[38;5;241;43m.\u001B[39;49m\u001B[43mfile_path\u001B[49m\u001B[43m,\u001B[49m\u001B[43m \u001B[49m\u001B[38;5;241;43m*\u001B[39;49m\u001B[38;5;241;43m*\u001B[39;49m\u001B[38;5;28;43mself\u001B[39;49m\u001B[38;5;241;43m.\u001B[39;49m\u001B[43munstructured_kwargs\u001B[49m\u001B[43m)\u001B[49m\n",
      "File \u001B[1;32m~\\PycharmProjects\\pro_test\\venv\\Lib\\site-packages\\unstructured\\partition\\auto.py:396\u001B[0m, in \u001B[0;36mpartition\u001B[1;34m(filename, content_type, file, file_filename, url, include_page_breaks, strategy, encoding, paragraph_grouper, headers, skip_infer_table_types, ssl_verify, ocr_languages, languages, detect_language_per_element, pdf_infer_table_structure, pdf_extract_images, pdf_extract_element_types, pdf_image_output_dir_path, pdf_extract_to_payload, xml_keep_tags, data_source_metadata, metadata_filename, request_timeout, hi_res_model_name, model_name, **kwargs)\u001B[0m\n\u001B[0;32m    386\u001B[0m     elements \u001B[38;5;241m=\u001B[39m _partition_rst(\n\u001B[0;32m    387\u001B[0m         filename\u001B[38;5;241m=\u001B[39mfilename,\n\u001B[0;32m    388\u001B[0m         file\u001B[38;5;241m=\u001B[39mfile,\n\u001B[1;32m   (...)\u001B[0m\n\u001B[0;32m    393\u001B[0m         \u001B[38;5;241m*\u001B[39m\u001B[38;5;241m*\u001B[39mkwargs,\n\u001B[0;32m    394\u001B[0m     )\n\u001B[0;32m    395\u001B[0m \u001B[38;5;28;01melif\u001B[39;00m filetype \u001B[38;5;241m==\u001B[39m FileType\u001B[38;5;241m.\u001B[39mMD:\n\u001B[1;32m--> 396\u001B[0m     _partition_md \u001B[38;5;241m=\u001B[39m \u001B[43m_get_partition_with_extras\u001B[49m\u001B[43m(\u001B[49m\u001B[38;5;124;43m\"\u001B[39;49m\u001B[38;5;124;43mmd\u001B[39;49m\u001B[38;5;124;43m\"\u001B[39;49m\u001B[43m)\u001B[49m\n\u001B[0;32m    397\u001B[0m     elements \u001B[38;5;241m=\u001B[39m _partition_md(\n\u001B[0;32m    398\u001B[0m         filename\u001B[38;5;241m=\u001B[39mfilename,\n\u001B[0;32m    399\u001B[0m         file\u001B[38;5;241m=\u001B[39mfile,\n\u001B[1;32m   (...)\u001B[0m\n\u001B[0;32m    404\u001B[0m         \u001B[38;5;241m*\u001B[39m\u001B[38;5;241m*\u001B[39mkwargs,\n\u001B[0;32m    405\u001B[0m     )\n\u001B[0;32m    406\u001B[0m \u001B[38;5;28;01melif\u001B[39;00m filetype \u001B[38;5;241m==\u001B[39m FileType\u001B[38;5;241m.\u001B[39mPDF:\n",
      "File \u001B[1;32m~\\PycharmProjects\\pro_test\\venv\\Lib\\site-packages\\unstructured\\partition\\auto.py:114\u001B[0m, in \u001B[0;36m_get_partition_with_extras\u001B[1;34m(doc_type, partition_with_extras_map)\u001B[0m\n\u001B[0;32m    112\u001B[0m _partition_func \u001B[38;5;241m=\u001B[39m partition_with_extras_map\u001B[38;5;241m.\u001B[39mget(doc_type)\n\u001B[0;32m    113\u001B[0m \u001B[38;5;28;01mif\u001B[39;00m _partition_func \u001B[38;5;129;01mis\u001B[39;00m \u001B[38;5;28;01mNone\u001B[39;00m:\n\u001B[1;32m--> 114\u001B[0m     \u001B[38;5;28;01mraise\u001B[39;00m \u001B[38;5;167;01mImportError\u001B[39;00m(\n\u001B[0;32m    115\u001B[0m         \u001B[38;5;124mf\u001B[39m\u001B[38;5;124m\"\u001B[39m\u001B[38;5;124mpartition_\u001B[39m\u001B[38;5;132;01m{\u001B[39;00mdoc_type\u001B[38;5;132;01m}\u001B[39;00m\u001B[38;5;124m is not available. \u001B[39m\u001B[38;5;124m\"\u001B[39m\n\u001B[0;32m    116\u001B[0m         \u001B[38;5;124mf\u001B[39m\u001B[38;5;124m\"\u001B[39m\u001B[38;5;124mInstall the \u001B[39m\u001B[38;5;132;01m{\u001B[39;00mdoc_type\u001B[38;5;132;01m}\u001B[39;00m\u001B[38;5;124m dependencies with \u001B[39m\u001B[38;5;124m\"\u001B[39m\n\u001B[0;32m    117\u001B[0m         \u001B[38;5;124mf\u001B[39m\u001B[38;5;124m'\u001B[39m\u001B[38;5;124mpip install \u001B[39m\u001B[38;5;124m\"\u001B[39m\u001B[38;5;124munstructured[\u001B[39m\u001B[38;5;132;01m{\u001B[39;00mdoc_type\u001B[38;5;132;01m}\u001B[39;00m\u001B[38;5;124m]\u001B[39m\u001B[38;5;124m\"\u001B[39m\u001B[38;5;124m'\u001B[39m,\n\u001B[0;32m    118\u001B[0m     )\n\u001B[0;32m    119\u001B[0m \u001B[38;5;28;01mreturn\u001B[39;00m _partition_func\n",
      "\u001B[1;31mImportError\u001B[0m: partition_md is not available. Install the md dependencies with pip install \"unstructured[md]\""
     ]
    }
   ],
   "source": [
    "from langchain.text_splitter import RecursiveCharacterTextSplitter\n",
    "from langchain.document_loaders import DirectoryLoader\n",
    "\n",
    "data_path = \"data/\"\n",
    "def load_documents():\n",
    "    loader = DirectoryLoader(data_path, glob=\"*.md\")\n",
    "    documents = loader.load()\n",
    "    return documents\n",
    "\n",
    "def split_text(documents):\n",
    "    text_splitter = RecursiveCharacterTextSplitter(\n",
    "        chunk_size=300,\n",
    "        chunk_overlap=100,\n",
    "        length_function=len,\n",
    "        add_start_index=True,\n",
    "    )\n",
    "    chunks = text_splitter.split_documents(documents)\n",
    "    print(f\"Split {len(documents)} documents into {len(chunks)} chunks.\")\n",
    "\n",
    "    document = chunks[10]\n",
    "    print(document.page_content)\n",
    "    print(document.metadata)\n",
    "\n",
    "    return chunks\n",
    "\n",
    "\n",
    "split_text(load_documents())"
   ],
   "metadata": {
    "collapsed": false,
    "pycharm": {
     "name": "#%%\n"
    }
   }
  },
  {
   "cell_type": "code",
   "execution_count": 20,
   "outputs": [],
   "source": [
    "from langchain.chat_models import ChatOpenAI\n",
    "\n",
    "chat = ChatOpenAI(\n",
    "    openai_api_key=openai_api_key,\n",
    "    model='gpt-3.5-turbo'\n",
    ")"
   ],
   "metadata": {
    "collapsed": false,
    "pycharm": {
     "name": "#%%\n"
    }
   }
  },
  {
   "cell_type": "code",
   "execution_count": 21,
   "outputs": [],
   "source": [
    "from langchain.schema import (\n",
    "    SystemMessage,\n",
    "    HumanMessage,\n",
    "    AIMessage\n",
    ")\n",
    "\n",
    "messages = [\n",
    "    SystemMessage(content=\"You are a helpful assistant.\"),\n",
    "    HumanMessage(content=\"Hi AI, how are you today?\"),\n",
    "    AIMessage(content=\"I'm great thank you. How can I help you?\"),\n",
    "    HumanMessage(content=\"I'd like to understand string theory.\")\n",
    "]"
   ],
   "metadata": {
    "collapsed": false,
    "pycharm": {
     "name": "#%%\n"
    }
   }
  },
  {
   "cell_type": "code",
   "execution_count": 22,
   "outputs": [
    {
     "data": {
      "text/plain": "AIMessage(content='String theory is a theoretical framework in physics that attempts to explain the fundamental nature of particles and their interactions. It is based on the idea that particles are not point-like objects, but rather tiny one-dimensional \"strings\" or loops that vibrate at different frequencies.\\n\\nHere are some key points to help you understand string theory:\\n\\n1. Dimensions: String theory suggests that our universe consists of more than the four dimensions of space and time that we are familiar with. It proposes the existence of extra dimensions, possibly as many as 10 or 11 in total.\\n\\n2. String Vibrations: The different vibrational patterns of these tiny strings give rise to particles with different properties. For example, particles with different masses and charges correspond to strings vibrating in different ways.\\n\\n3. Unification of Forces: String theory aims to unify all four fundamental forces of nature—gravity, electromagnetism, and the strong and weak nuclear forces—into a single, coherent framework. This is a key goal of many physicists, as it would provide a deeper understanding of the fundamental laws governing the universe.\\n\\n4. No Point Particles: In string theory, particles are not considered to be point-like objects, as in traditional particle physics. Instead, they are described as tiny loops or strings that can vibrate and interact with each other.\\n\\n5. Superstring Theory: There are different versions of string theory, but the most prominent one is called superstring theory. It incorporates supersymmetry, a theoretical concept that proposes a symmetry between particles with different spins (such as fermions and bosons).\\n\\n6. Challenges and Open Questions: Despite its potential, string theory is still a work in progress, and many aspects of it remain to be fully understood. There are also challenges in testing the theory experimentally, as the energy scales required to directly observe strings are currently beyond our technological capabilities.\\n\\nIt\\'s worth noting that string theory is a complex and highly mathematical subject, and many aspects of it can be quite technical. Nevertheless, understanding the basic concepts can provide a good foundation for exploring this fascinating field further.')"
     },
     "execution_count": 22,
     "metadata": {},
     "output_type": "execute_result"
    }
   ],
   "source": [
    "res = chat(messages)\n",
    "res"
   ],
   "metadata": {
    "collapsed": false,
    "pycharm": {
     "name": "#%%\n"
    }
   }
  },
  {
   "cell_type": "code",
   "execution_count": 23,
   "outputs": [
    {
     "name": "stdout",
     "output_type": "stream",
     "text": [
      "String theory is a theoretical framework in physics that attempts to explain the fundamental nature of particles and their interactions. It is based on the idea that particles are not point-like objects, but rather tiny one-dimensional \"strings\" or loops that vibrate at different frequencies.\n",
      "\n",
      "Here are some key points to help you understand string theory:\n",
      "\n",
      "1. Dimensions: String theory suggests that our universe consists of more than the four dimensions of space and time that we are familiar with. It proposes the existence of extra dimensions, possibly as many as 10 or 11 in total.\n",
      "\n",
      "2. String Vibrations: The different vibrational patterns of these tiny strings give rise to particles with different properties. For example, particles with different masses and charges correspond to strings vibrating in different ways.\n",
      "\n",
      "3. Unification of Forces: String theory aims to unify all four fundamental forces of nature—gravity, electromagnetism, and the strong and weak nuclear forces—into a single, coherent framework. This is a key goal of many physicists, as it would provide a deeper understanding of the fundamental laws governing the universe.\n",
      "\n",
      "4. No Point Particles: In string theory, particles are not considered to be point-like objects, as in traditional particle physics. Instead, they are described as tiny loops or strings that can vibrate and interact with each other.\n",
      "\n",
      "5. Superstring Theory: There are different versions of string theory, but the most prominent one is called superstring theory. It incorporates supersymmetry, a theoretical concept that proposes a symmetry between particles with different spins (such as fermions and bosons).\n",
      "\n",
      "6. Challenges and Open Questions: Despite its potential, string theory is still a work in progress, and many aspects of it remain to be fully understood. There are also challenges in testing the theory experimentally, as the energy scales required to directly observe strings are currently beyond our technological capabilities.\n",
      "\n",
      "It's worth noting that string theory is a complex and highly mathematical subject, and many aspects of it can be quite technical. Nevertheless, understanding the basic concepts can provide a good foundation for exploring this fascinating field further.\n"
     ]
    }
   ],
   "source": [
    "print(res.content)"
   ],
   "metadata": {
    "collapsed": false,
    "pycharm": {
     "name": "#%%\n"
    }
   }
  },
  {
   "cell_type": "code",
   "execution_count": 24,
   "outputs": [
    {
     "name": "stdout",
     "output_type": "stream",
     "text": [
      "Physicists believe that string theory has the potential to produce a unified theory because it incorporates all four fundamental forces of nature (gravity, electromagnetism, and the strong and weak nuclear forces) into a single framework. This is in contrast to the Standard Model of particle physics, which describes the three non-gravitational forces separately.\n",
      "\n",
      "By treating particles as vibrating strings, string theory provides a way to mathematically describe the interactions between different particles and forces. It suggests that all particles and their interactions arise from the vibrations of these fundamental strings.\n",
      "\n",
      "Furthermore, string theory incorporates supersymmetry, a theoretical concept that relates particles with different spins (such as fermions and bosons). Supersymmetry has the potential to further unify our understanding of nature by providing a deeper symmetry between different types of particles.\n",
      "\n",
      "By combining all these elements, string theory offers the possibility of a single, coherent framework that can explain the underlying principles governing the universe. This is why physicists are excited about the potential of string theory as a candidate for a unified theory.\n",
      "\n",
      "However, it is important to note that string theory is still a theoretical framework and has not yet been definitively proven or fully realized. Further research and experimental evidence are needed to confirm its validity and establish it as a complete theory of everything.\n"
     ]
    }
   ],
   "source": [
    "# add latest AI response to messages\n",
    "messages.append(res)\n",
    "\n",
    "# now create a new user prompt\n",
    "prompt = HumanMessage(\n",
    "    content=\"Why do physicists believe it can produce a 'unified theory'?\"\n",
    ")\n",
    "# add to messages\n",
    "messages.append(prompt)\n",
    "\n",
    "# send to chat-gpt\n",
    "res = chat(messages)\n",
    "\n",
    "print(res.content)"
   ],
   "metadata": {
    "collapsed": false,
    "pycharm": {
     "name": "#%%\n"
    }
   }
  },
  {
   "cell_type": "code",
   "execution_count": null,
   "outputs": [],
   "source": [
    "from langchain.chat_models import ChatOpenAI\n",
    "chat = ChatOpenAI(openai_api_key=)"
   ],
   "metadata": {
    "collapsed": false,
    "pycharm": {
     "name": "#%%\n"
    }
   }
  }
 ],
 "metadata": {
  "kernelspec": {
   "display_name": "Python 3",
   "language": "python",
   "name": "python3"
  },
  "language_info": {
   "codemirror_mode": {
    "name": "ipython",
    "version": 2
   },
   "file_extension": ".py",
   "mimetype": "text/x-python",
   "name": "python",
   "nbconvert_exporter": "python",
   "pygments_lexer": "ipython2",
   "version": "2.7.6"
  }
 },
 "nbformat": 4,
 "nbformat_minor": 0
}