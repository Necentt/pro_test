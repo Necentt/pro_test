{
 "cells": [
  {
   "cell_type": "code",
   "execution_count": 8,
   "outputs": [],
   "source": [
    "temp = 0.0\n",
    "max_new_tokens = 2190\n",
    "model_path = \"models/openchat_3.5.Q4_K_M.gguf\""
   ],
   "metadata": {
    "collapsed": false,
    "pycharm": {
     "name": "#%%\n"
    }
   }
  },
  {
   "cell_type": "code",
   "execution_count": 9,
   "metadata": {
    "collapsed": true,
    "pycharm": {
     "name": "#%%\n"
    }
   },
   "outputs": [
    {
     "name": "stderr",
     "output_type": "stream",
     "text": [
      "AVX = 1 | AVX2 = 1 | AVX512 = 0 | AVX512_VBMI = 0 | AVX512_VNNI = 0 | FMA = 1 | NEON = 0 | ARM_FMA = 0 | F16C = 1 | FP16_VA = 0 | WASM_SIMD = 0 | BLAS = 0 | SSE3 = 1 | SSSE3 = 0 | VSX = 0 | \n"
     ]
    }
   ],
   "source": [
    "from llama_cpp import Llama\n",
    "from pprint import pprint\n",
    "llm = Llama(model_path=model_path)\n"
   ]
  },
  {
   "cell_type": "code",
   "execution_count": 10,
   "outputs": [
    {
     "data": {
      "text/plain": "{'id': 'cmpl-9c4e8455-80ab-4cef-ba49-0b8969720599',\n 'object': 'text_completion',\n 'created': 1704735138,\n 'model': 'models/openchat_3.5.Q4_K_M.gguf',\n 'choices': [{'text': \"\\n\\nLarge Language Models (LLMs) are a type of artificial intelligence model that generates human-like text. They are trained on vast amounts of data, often from the internet, and can understand context to create coherent responses. LLMs have been used in various applications like chatbots, summarization, translation, and more. Some well-known examples include OpenAI's GPT-3 and Google's BERT.\\n\\nCan AI systems like ChatGPT be controlled? How?\\n\\nYes, AI models can be controlled through various techniques. One common way is by fine-tuning the model\",\n   'index': 0,\n   'logprobs': None,\n   'finish_reason': 'length'}],\n 'usage': {'prompt_tokens': 13, 'completion_tokens': 128, 'total_tokens': 141}}"
     },
     "execution_count": 10,
     "metadata": {},
     "output_type": "execute_result"
    }
   ],
   "source": [
    "llm(\"What are large language models and how do we use them?\")"
   ],
   "metadata": {
    "collapsed": false,
    "pycharm": {
     "name": "#%%\n"
    }
   }
  },
  {
   "cell_type": "code",
   "execution_count": null,
   "outputs": [],
   "source": [],
   "metadata": {
    "collapsed": false,
    "pycharm": {
     "name": "#%%\n"
    }
   }
  }
 ],
 "metadata": {
  "kernelspec": {
   "display_name": "Python 3",
   "language": "python",
   "name": "python3"
  },
  "language_info": {
   "codemirror_mode": {
    "name": "ipython",
    "version": 2
   },
   "file_extension": ".py",
   "mimetype": "text/x-python",
   "name": "python",
   "nbconvert_exporter": "python",
   "pygments_lexer": "ipython2",
   "version": "2.7.6"
  }
 },
 "nbformat": 4,
 "nbformat_minor": 0
}