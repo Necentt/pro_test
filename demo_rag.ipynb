{
 "cells": [
  {
   "cell_type": "code",
   "execution_count": null,
   "id": "1220eb26",
   "metadata": {
    "pycharm": {
     "name": "#%%\n"
    }
   },
   "outputs": [],
   "source": [
    "!pip install torch langchain sentence-transformers llama-index llama-cpp-python"
   ]
  },
  {
   "cell_type": "markdown",
   "id": "Pr_LwDUeJqIx",
   "metadata": {
    "id": "Pr_LwDUeJqIx",
    "pycharm": {
     "name": "#%% md\n"
    }
   },
   "source": [
    "## Конфигурационные параметры"
   ]
  },
  {
   "cell_type": "code",
   "execution_count": null,
   "id": "RnQJlxjOya_q",
   "metadata": {
    "id": "RnQJlxjOya_q",
    "pycharm": {
     "name": "#%%\n"
    }
   },
   "outputs": [],
   "source": [
    "data_dir = '/home/brarrow/repos/memes/data'\n",
    "weights_dir = '/models'\n",
    "llm_weights_filename = 'openchat_3.5.Q4_K_M.gguf'\n",
    "temp = 0.0\n",
    "max_new_tokens = 2190\n",
    "n_ctx = 8192\n",
    "node_ctx = 1024\n",
    "similarity_topk = 1"
   ]
  },
  {
   "cell_type": "code",
   "execution_count": null,
   "id": "otoTJ4Oo04nE",
   "metadata": {
    "id": "otoTJ4Oo04nE",
    "pycharm": {
     "name": "#%%\n"
    }
   },
   "outputs": [],
   "source": [
    "DEFAULT_INSTRUCTION = 'Ты умный ассистент, отвечающий на вопросы пользователя о файлах, содержащихся в базе данных. '\\\n",
    "                      'Полезные для ответа части текста из файлов будут поданы в контексте. '\\\n",
    "                      'Используй их, чтобы дать точный и полный ответ на вопрос пользователя. '\\\n",
    "                      'Не матерись. Все матерные слова заменяй на звездочки. '\n",
    "DEFAULT_INSTRUCTION"
   ]
  },
  {
   "cell_type": "markdown",
   "id": "Cz6ooQhQJumN",
   "metadata": {
    "id": "Cz6ooQhQJumN",
    "pycharm": {
     "name": "#%% md\n"
    }
   },
   "source": [
    "## Обвязка для используемой LLM"
   ]
  },
  {
   "cell_type": "code",
   "execution_count": null,
   "id": "vdco_xoKzmBl",
   "metadata": {
    "id": "vdco_xoKzmBl",
    "pycharm": {
     "name": "#%%\n"
    }
   },
   "outputs": [],
   "source": [
    "from typing import Any, List, Optional, Sequence\n",
    "from llama_cpp.llama_chat_format import (ChatFormatterResponse, _format_chatml,\n",
    "                                         _get_system_message, _map_roles,\n",
    "                                         llama_types)\n",
    "from llama_cpp.llama_types import (ChatCompletionRequestAssistantMessage,\n",
    "                                   ChatCompletionRequestFunctionMessage,\n",
    "                                   ChatCompletionRequestSystemMessage,\n",
    "                                   ChatCompletionRequestToolMessage,\n",
    "                                   ChatCompletionRequestUserMessage)\n",
    "from llama_index import PromptTemplate\n",
    "from llama_index.llms.types import ChatMessage, MessageRole\n",
    "\n",
    "LLAMA_INDEX_TO_CPP_MAPPING = {\n",
    "    MessageRole.SYSTEM: ChatCompletionRequestSystemMessage,\n",
    "    MessageRole.USER: ChatCompletionRequestUserMessage,\n",
    "    MessageRole.ASSISTANT: ChatCompletionRequestAssistantMessage,\n",
    "    MessageRole.FUNCTION: ChatCompletionRequestFunctionMessage,\n",
    "    MessageRole.TOOL: ChatCompletionRequestToolMessage,\n",
    "}\n",
    "\n",
    "def format_openchat(\n",
    "    messages: List[llama_types.ChatCompletionRequestMessage],\n",
    "    **kwargs: Any,\n",
    ") -> ChatFormatterResponse:\n",
    "    system_template = \"{system_message}\"\n",
    "    system_message = _get_system_message(messages)\n",
    "    system_message = system_template.format(system_message=system_message)\n",
    "    _roles = dict(\n",
    "        user=\"GPT4 Correct User: \", assistant=\"GPT4 Correct Assistant: \"\n",
    "    )\n",
    "    _sep = \"<|end_of_turn|>\"\n",
    "    _messages = _map_roles(messages, _roles)\n",
    "    _messages.append((_roles[\"assistant\"], None))\n",
    "    _prompt = _format_chatml(system_message, _messages, _sep)\n",
    "    return ChatFormatterResponse(prompt=_prompt, stop=_sep)\n",
    "\n",
    "def messages_to_prompt(\n",
    "    messages: Sequence[ChatMessage], system_prompt: Optional[str] = None\n",
    ") -> str:\n",
    "    llama_cpp_messages = []\n",
    "    for message in messages:\n",
    "        if message.role not in LLAMA_INDEX_TO_CPP_MAPPING:\n",
    "            raise ValueError(f\"Invalid message role: {message.role}\")\n",
    "\n",
    "        message_class = LLAMA_INDEX_TO_CPP_MAPPING[message.role]\n",
    "        new_message = message_class(role=message.role.value, content=message.content)\n",
    "        llama_cpp_messages.append(new_message)\n",
    "\n",
    "    return format_openchat(llama_cpp_messages).prompt\n",
    "\n",
    "def completion_to_prompt(completion: str, system_prompt: Optional[str] = None) -> str:\n",
    "    system_prompt_str = system_prompt or DEFAULT_INSTRUCTION\n",
    "\n",
    "    return (\n",
    "        f\"{system_prompt_str.strip()}<|end_of_turn|>\"\n",
    "        f\"{completion.strip()}\"\n",
    "    )\n",
    "\n",
    "query_wrapper_prompt = PromptTemplate(\n",
    "    \"GPT4 Correct User: {query_str}<|end_of_turn|>GPT4 Correct Assistant: \"\n",
    ")"
   ]
  },
  {
   "cell_type": "markdown",
   "id": "69b0320e-47d6-48a8-9ba1-d844bb887cb5",
   "metadata": {
    "id": "69b0320e-47d6-48a8-9ba1-d844bb887cb5",
    "pycharm": {
     "name": "#%% md\n"
    }
   },
   "source": [
    "## Загружаем LLM и модель эмбеддингов"
   ]
  },
  {
   "cell_type": "code",
   "execution_count": null,
   "id": "1f2871ad-1c14-49e4-b5ec-3e3eb96429f8",
   "metadata": {
    "id": "1f2871ad-1c14-49e4-b5ec-3e3eb96429f8",
    "pycharm": {
     "name": "#%%\n"
    }
   },
   "outputs": [],
   "source": [
    "import os\n",
    "\n",
    "from langchain.embeddings.huggingface import HuggingFaceEmbeddings\n",
    "from llama_index.llms import LlamaCPP\n",
    "from llama_index import ServiceContext"
   ]
  },
  {
   "cell_type": "code",
   "execution_count": null,
   "id": "3be817bd-81a1-436f-8f92-3eb48531c915",
   "metadata": {
    "id": "3be817bd-81a1-436f-8f92-3eb48531c915",
    "pycharm": {
     "name": "#%%\n"
    }
   },
   "outputs": [],
   "source": [
    "embed_model = HuggingFaceEmbeddings(model_name=\"intfloat/multilingual-e5-large\", model_kwargs={\"device\": \"cuda:0\"})"
   ]
  },
  {
   "cell_type": "code",
   "execution_count": null,
   "id": "A8tREvXy2Bqt",
   "metadata": {
    "colab": {
     "base_uri": "https://localhost:8080/"
    },
    "id": "A8tREvXy2Bqt",
    "outputId": "01c0abab-ed2a-4422-bea8-23f551bfa426",
    "pycharm": {
     "name": "#%%\n"
    }
   },
   "outputs": [],
   "source": [
    "llm = LlamaCPP(\n",
    "    model_path=os.path.join(weights_dir, llm_weights_filename),\n",
    "    temperature=temp,\n",
    "    max_new_tokens=max_new_tokens,\n",
    "    context_window=n_ctx - 200,\n",
    "    generate_kwargs={},\n",
    "    model_kwargs={\"n_gpu_layers\": 100},\n",
    "    messages_to_prompt=messages_to_prompt,\n",
    "    completion_to_prompt=completion_to_prompt,\n",
    "    verbose=False\n",
    "    )"
   ]
  },
  {
   "cell_type": "code",
   "execution_count": null,
   "id": "d5affc83-b5f0-40c9-a8a1-b4ddd67fa62b",
   "metadata": {
    "id": "d5affc83-b5f0-40c9-a8a1-b4ddd67fa62b",
    "pycharm": {
     "name": "#%%\n"
    }
   },
   "outputs": [],
   "source": [
    "service_context = ServiceContext.from_defaults(llm=llm,\n",
    "                                               embed_model=embed_model,\n",
    "                                               chunk_size=node_ctx,\n",
    "                                               query_wrapper_prompt=query_wrapper_prompt)"
   ]
  },
  {
   "cell_type": "markdown",
   "id": "343f9de5-4373-458b-b6cf-a8173f3e9a52",
   "metadata": {
    "id": "343f9de5-4373-458b-b6cf-a8173f3e9a52",
    "pycharm": {
     "name": "#%% md\n"
    }
   },
   "source": [
    "\n",
    "## Создание индекса"
   ]
  },
  {
   "cell_type": "code",
   "execution_count": null,
   "id": "983b9e84-b546-4b5a-9072-c6b3c8ec8699",
   "metadata": {
    "colab": {
     "base_uri": "https://localhost:8080/",
     "height": 526,
     "referenced_widgets": [
      "6779d4c501bd4c198f7db5c55d23351b",
      "168e1b9f8d2b4e0785104ab7efba6747",
      "c658b749adab4e7a870ecd0bfcd9fe52",
      "a22052da38bc44a7a7b812f09030cebe",
      "8098745ce49f4cec9815541eba2f7135",
      "f8b653e6029448888a77bf46b4bb8e38",
      "5c8885a241cb437a88e53d83a6494e32",
      "add931d9c1644dd691b1a01d4b8ac652",
      "ec0345cfa2254649ac13363488929df5",
      "ca328999aa3e42309363a8b8747131ff",
      "77edf1f116e94c9280c8419dede034d2",
      "bc63f2971925488c8ed87a86fd68c437",
      "5869fc87647e46cc9c3d64473daef6e1",
      "52d90f63ca3f4551bb587b39b1b6a7fc",
      "4d6d16c2b6134329886e5c8b74b7a718",
      "12168d5601d6445ba95a92575f985b67",
      "01e0a0f88a5c4c49bd3b948e0a7caec2",
      "54e4395d3dcb4ad7a42d6e1e5ad6c27b",
      "d5c69679fc13411baef6f92b79431d8d",
      "ac55f48299364a839bc2a194dc307778",
      "8dc6fa77abb6416ca787cd5e3d359c3a",
      "d3020eee9af3433b821c562d8362349e"
     ]
    },
    "id": "983b9e84-b546-4b5a-9072-c6b3c8ec8699",
    "outputId": "fecbccb8-211f-4224-c00d-550688117f37",
    "pycharm": {
     "name": "#%%\n"
    }
   },
   "outputs": [],
   "source": [
    "from llama_index.readers import SimpleDirectoryReader\n",
    "from llama_index.memory import ChatMemoryBuffer\n",
    "from llama_index import VectorStoreIndex\n",
    "\n",
    "loader = SimpleDirectoryReader(input_dir=data_dir)\n",
    "docs = loader.load_data()\n",
    "\n",
    "index = VectorStoreIndex.from_documents(docs,\n",
    "                                        service_context=service_context,\n",
    "                                        show_progress=True)\n"
   ]
  },
  {
   "cell_type": "markdown",
   "id": "546545e1",
   "metadata": {
    "pycharm": {
     "name": "#%% md\n"
    }
   },
   "source": [
    "## Создание ретривера"
   ]
  },
  {
   "cell_type": "code",
   "execution_count": null,
   "id": "c77f74b2-9bbe-46d6-b35f-23ea757b315b",
   "metadata": {
    "colab": {
     "base_uri": "https://localhost:8080/",
     "height": 407
    },
    "id": "c77f74b2-9bbe-46d6-b35f-23ea757b315b",
    "outputId": "f5173aad-5fb2-4324-9f15-96956019a61f",
    "pycharm": {
     "name": "#%%\n"
    }
   },
   "outputs": [],
   "source": [
    "retriever = index.as_retriever(similarity_top_k=similarity_topk)\n",
    "\n",
    "memory = ChatMemoryBuffer.from_defaults(token_limit=4500)\n",
    "\n",
    "chat_engine = index.as_chat_engine(\n",
    "    chat_mode=\"context\",\n",
    "    memory=memory,\n",
    "    system_prompt=DEFAULT_INSTRUCTION,\n",
    ")"
   ]
  },
  {
   "cell_type": "markdown",
   "id": "f9687636-45e3-4038-b72e-b8c2d86baf56",
   "metadata": {
    "id": "f9687636-45e3-4038-b72e-b8c2d86baf56",
    "pycharm": {
     "name": "#%% md\n"
    }
   },
   "source": [
    "## Ответы на вопросы по тексту"
   ]
  },
  {
   "cell_type": "code",
   "execution_count": null,
   "id": "0c54d927-3b56-4844-89c5-61a5aac1df6c",
   "metadata": {
    "id": "0c54d927-3b56-4844-89c5-61a5aac1df6c",
    "pycharm": {
     "name": "#%%\n"
    }
   },
   "outputs": [],
   "source": [
    "resp_obj = chat_engine.chat(\"Что ты знаешь о ...?\")\n",
    "print(str(resp_obj.response).replace('.', '.\\n'))"
   ]
  }
 ],
 "metadata": {
  "accelerator": "GPU",
  "colab": {
   "collapsed_sections": [
    "4a7caa90-8418-4b1b-8dc4-31ac81da39f3"
   ],
   "gpuType": "T4",
   "provenance": []
  },
  "kernelspec": {
   "display_name": "Python 3",
   "name": "python3"
  },
  "language_info": {
   "codemirror_mode": {
    "name": "ipython",
    "version": 3
   },
   "file_extension": ".py",
   "mimetype": "text/x-python",
   "name": "python",
   "nbconvert_exporter": "python",
   "pygments_lexer": "ipython3",
   "version": "3.11.5"
  },
  "widgets": {
   "application/vnd.jupyter.widget-state+json": {
    "01e0a0f88a5c4c49bd3b948e0a7caec2": {
     "model_module": "@jupyter-widgets/base",
     "model_module_version": "1.2.0",
     "model_name": "LayoutModel",
     "state": {
      "_model_module": "@jupyter-widgets/base",
      "_model_module_version": "1.2.0",
      "_model_name": "LayoutModel",
      "_view_count": null,
      "_view_module": "@jupyter-widgets/base",
      "_view_module_version": "1.2.0",
      "_view_name": "LayoutView",
      "align_content": null,
      "align_items": null,
      "align_self": null,
      "border": null,
      "bottom": null,
      "display": null,
      "flex": null,
      "flex_flow": null,
      "grid_area": null,
      "grid_auto_columns": null,
      "grid_auto_flow": null,
      "grid_auto_rows": null,
      "grid_column": null,
      "grid_gap": null,
      "grid_row": null,
      "grid_template_areas": null,
      "grid_template_columns": null,
      "grid_template_rows": null,
      "height": null,
      "justify_content": null,
      "justify_items": null,
      "left": null,
      "margin": null,
      "max_height": null,
      "max_width": null,
      "min_height": null,
      "min_width": null,
      "object_fit": null,
      "object_position": null,
      "order": null,
      "overflow": null,
      "overflow_x": null,
      "overflow_y": null,
      "padding": null,
      "right": null,
      "top": null,
      "visibility": null,
      "width": null
     }
    },
    "12168d5601d6445ba95a92575f985b67": {
     "model_module": "@jupyter-widgets/base",
     "model_module_version": "1.2.0",
     "model_name": "LayoutModel",
     "state": {
      "_model_module": "@jupyter-widgets/base",
      "_model_module_version": "1.2.0",
      "_model_name": "LayoutModel",
      "_view_count": null,
      "_view_module": "@jupyter-widgets/base",
      "_view_module_version": "1.2.0",
      "_view_name": "LayoutView",
      "align_content": null,
      "align_items": null,
      "align_self": null,
      "border": null,
      "bottom": null,
      "display": null,
      "flex": null,
      "flex_flow": null,
      "grid_area": null,
      "grid_auto_columns": null,
      "grid_auto_flow": null,
      "grid_auto_rows": null,
      "grid_column": null,
      "grid_gap": null,
      "grid_row": null,
      "grid_template_areas": null,
      "grid_template_columns": null,
      "grid_template_rows": null,
      "height": null,
      "justify_content": null,
      "justify_items": null,
      "left": null,
      "margin": null,
      "max_height": null,
      "max_width": null,
      "min_height": null,
      "min_width": null,
      "object_fit": null,
      "object_position": null,
      "order": null,
      "overflow": null,
      "overflow_x": null,
      "overflow_y": null,
      "padding": null,
      "right": null,
      "top": null,
      "visibility": null,
      "width": null
     }
    },
    "168e1b9f8d2b4e0785104ab7efba6747": {
     "model_module": "@jupyter-widgets/controls",
     "model_module_version": "1.5.0",
     "model_name": "HTMLModel",
     "state": {
      "_dom_classes": [],
      "_model_module": "@jupyter-widgets/controls",
      "_model_module_version": "1.5.0",
      "_model_name": "HTMLModel",
      "_view_count": null,
      "_view_module": "@jupyter-widgets/controls",
      "_view_module_version": "1.5.0",
      "_view_name": "HTMLView",
      "description": "",
      "description_tooltip": null,
      "layout": "IPY_MODEL_f8b653e6029448888a77bf46b4bb8e38",
      "placeholder": "​",
      "style": "IPY_MODEL_5c8885a241cb437a88e53d83a6494e32",
      "value": "Parsing nodes: 100%"
     }
    },
    "4d6d16c2b6134329886e5c8b74b7a718": {
     "model_module": "@jupyter-widgets/controls",
     "model_module_version": "1.5.0",
     "model_name": "HTMLModel",
     "state": {
      "_dom_classes": [],
      "_model_module": "@jupyter-widgets/controls",
      "_model_module_version": "1.5.0",
      "_model_name": "HTMLModel",
      "_view_count": null,
      "_view_module": "@jupyter-widgets/controls",
      "_view_module_version": "1.5.0",
      "_view_name": "HTMLView",
      "description": "",
      "description_tooltip": null,
      "layout": "IPY_MODEL_8dc6fa77abb6416ca787cd5e3d359c3a",
      "placeholder": "​",
      "style": "IPY_MODEL_d3020eee9af3433b821c562d8362349e",
      "value": " 0/46 [00:00&lt;?, ?it/s]"
     }
    },
    "52d90f63ca3f4551bb587b39b1b6a7fc": {
     "model_module": "@jupyter-widgets/controls",
     "model_module_version": "1.5.0",
     "model_name": "FloatProgressModel",
     "state": {
      "_dom_classes": [],
      "_model_module": "@jupyter-widgets/controls",
      "_model_module_version": "1.5.0",
      "_model_name": "FloatProgressModel",
      "_view_count": null,
      "_view_module": "@jupyter-widgets/controls",
      "_view_module_version": "1.5.0",
      "_view_name": "ProgressView",
      "bar_style": "",
      "description": "",
      "description_tooltip": null,
      "layout": "IPY_MODEL_d5c69679fc13411baef6f92b79431d8d",
      "max": 46,
      "min": 0,
      "orientation": "horizontal",
      "style": "IPY_MODEL_ac55f48299364a839bc2a194dc307778",
      "value": 0
     }
    },
    "54e4395d3dcb4ad7a42d6e1e5ad6c27b": {
     "model_module": "@jupyter-widgets/controls",
     "model_module_version": "1.5.0",
     "model_name": "DescriptionStyleModel",
     "state": {
      "_model_module": "@jupyter-widgets/controls",
      "_model_module_version": "1.5.0",
      "_model_name": "DescriptionStyleModel",
      "_view_count": null,
      "_view_module": "@jupyter-widgets/base",
      "_view_module_version": "1.2.0",
      "_view_name": "StyleView",
      "description_width": ""
     }
    },
    "5869fc87647e46cc9c3d64473daef6e1": {
     "model_module": "@jupyter-widgets/controls",
     "model_module_version": "1.5.0",
     "model_name": "HTMLModel",
     "state": {
      "_dom_classes": [],
      "_model_module": "@jupyter-widgets/controls",
      "_model_module_version": "1.5.0",
      "_model_name": "HTMLModel",
      "_view_count": null,
      "_view_module": "@jupyter-widgets/controls",
      "_view_module_version": "1.5.0",
      "_view_name": "HTMLView",
      "description": "",
      "description_tooltip": null,
      "layout": "IPY_MODEL_01e0a0f88a5c4c49bd3b948e0a7caec2",
      "placeholder": "​",
      "style": "IPY_MODEL_54e4395d3dcb4ad7a42d6e1e5ad6c27b",
      "value": "Generating embeddings:   0%"
     }
    },
    "5c8885a241cb437a88e53d83a6494e32": {
     "model_module": "@jupyter-widgets/controls",
     "model_module_version": "1.5.0",
     "model_name": "DescriptionStyleModel",
     "state": {
      "_model_module": "@jupyter-widgets/controls",
      "_model_module_version": "1.5.0",
      "_model_name": "DescriptionStyleModel",
      "_view_count": null,
      "_view_module": "@jupyter-widgets/base",
      "_view_module_version": "1.2.0",
      "_view_name": "StyleView",
      "description_width": ""
     }
    },
    "6779d4c501bd4c198f7db5c55d23351b": {
     "model_module": "@jupyter-widgets/controls",
     "model_module_version": "1.5.0",
     "model_name": "HBoxModel",
     "state": {
      "_dom_classes": [],
      "_model_module": "@jupyter-widgets/controls",
      "_model_module_version": "1.5.0",
      "_model_name": "HBoxModel",
      "_view_count": null,
      "_view_module": "@jupyter-widgets/controls",
      "_view_module_version": "1.5.0",
      "_view_name": "HBoxView",
      "box_style": "",
      "children": [
       "IPY_MODEL_168e1b9f8d2b4e0785104ab7efba6747",
       "IPY_MODEL_c658b749adab4e7a870ecd0bfcd9fe52",
       "IPY_MODEL_a22052da38bc44a7a7b812f09030cebe"
      ],
      "layout": "IPY_MODEL_8098745ce49f4cec9815541eba2f7135"
     }
    },
    "77edf1f116e94c9280c8419dede034d2": {
     "model_module": "@jupyter-widgets/controls",
     "model_module_version": "1.5.0",
     "model_name": "DescriptionStyleModel",
     "state": {
      "_model_module": "@jupyter-widgets/controls",
      "_model_module_version": "1.5.0",
      "_model_name": "DescriptionStyleModel",
      "_view_count": null,
      "_view_module": "@jupyter-widgets/base",
      "_view_module_version": "1.2.0",
      "_view_name": "StyleView",
      "description_width": ""
     }
    },
    "8098745ce49f4cec9815541eba2f7135": {
     "model_module": "@jupyter-widgets/base",
     "model_module_version": "1.2.0",
     "model_name": "LayoutModel",
     "state": {
      "_model_module": "@jupyter-widgets/base",
      "_model_module_version": "1.2.0",
      "_model_name": "LayoutModel",
      "_view_count": null,
      "_view_module": "@jupyter-widgets/base",
      "_view_module_version": "1.2.0",
      "_view_name": "LayoutView",
      "align_content": null,
      "align_items": null,
      "align_self": null,
      "border": null,
      "bottom": null,
      "display": null,
      "flex": null,
      "flex_flow": null,
      "grid_area": null,
      "grid_auto_columns": null,
      "grid_auto_flow": null,
      "grid_auto_rows": null,
      "grid_column": null,
      "grid_gap": null,
      "grid_row": null,
      "grid_template_areas": null,
      "grid_template_columns": null,
      "grid_template_rows": null,
      "height": null,
      "justify_content": null,
      "justify_items": null,
      "left": null,
      "margin": null,
      "max_height": null,
      "max_width": null,
      "min_height": null,
      "min_width": null,
      "object_fit": null,
      "object_position": null,
      "order": null,
      "overflow": null,
      "overflow_x": null,
      "overflow_y": null,
      "padding": null,
      "right": null,
      "top": null,
      "visibility": null,
      "width": null
     }
    },
    "8dc6fa77abb6416ca787cd5e3d359c3a": {
     "model_module": "@jupyter-widgets/base",
     "model_module_version": "1.2.0",
     "model_name": "LayoutModel",
     "state": {
      "_model_module": "@jupyter-widgets/base",
      "_model_module_version": "1.2.0",
      "_model_name": "LayoutModel",
      "_view_count": null,
      "_view_module": "@jupyter-widgets/base",
      "_view_module_version": "1.2.0",
      "_view_name": "LayoutView",
      "align_content": null,
      "align_items": null,
      "align_self": null,
      "border": null,
      "bottom": null,
      "display": null,
      "flex": null,
      "flex_flow": null,
      "grid_area": null,
      "grid_auto_columns": null,
      "grid_auto_flow": null,
      "grid_auto_rows": null,
      "grid_column": null,
      "grid_gap": null,
      "grid_row": null,
      "grid_template_areas": null,
      "grid_template_columns": null,
      "grid_template_rows": null,
      "height": null,
      "justify_content": null,
      "justify_items": null,
      "left": null,
      "margin": null,
      "max_height": null,
      "max_width": null,
      "min_height": null,
      "min_width": null,
      "object_fit": null,
      "object_position": null,
      "order": null,
      "overflow": null,
      "overflow_x": null,
      "overflow_y": null,
      "padding": null,
      "right": null,
      "top": null,
      "visibility": null,
      "width": null
     }
    },
    "a22052da38bc44a7a7b812f09030cebe": {
     "model_module": "@jupyter-widgets/controls",
     "model_module_version": "1.5.0",
     "model_name": "HTMLModel",
     "state": {
      "_dom_classes": [],
      "_model_module": "@jupyter-widgets/controls",
      "_model_module_version": "1.5.0",
      "_model_name": "HTMLModel",
      "_view_count": null,
      "_view_module": "@jupyter-widgets/controls",
      "_view_module_version": "1.5.0",
      "_view_name": "HTMLView",
      "description": "",
      "description_tooltip": null,
      "layout": "IPY_MODEL_ca328999aa3e42309363a8b8747131ff",
      "placeholder": "​",
      "style": "IPY_MODEL_77edf1f116e94c9280c8419dede034d2",
      "value": " 36/36 [00:00&lt;00:00, 337.77it/s]"
     }
    },
    "ac55f48299364a839bc2a194dc307778": {
     "model_module": "@jupyter-widgets/controls",
     "model_module_version": "1.5.0",
     "model_name": "ProgressStyleModel",
     "state": {
      "_model_module": "@jupyter-widgets/controls",
      "_model_module_version": "1.5.0",
      "_model_name": "ProgressStyleModel",
      "_view_count": null,
      "_view_module": "@jupyter-widgets/base",
      "_view_module_version": "1.2.0",
      "_view_name": "StyleView",
      "bar_color": null,
      "description_width": ""
     }
    },
    "add931d9c1644dd691b1a01d4b8ac652": {
     "model_module": "@jupyter-widgets/base",
     "model_module_version": "1.2.0",
     "model_name": "LayoutModel",
     "state": {
      "_model_module": "@jupyter-widgets/base",
      "_model_module_version": "1.2.0",
      "_model_name": "LayoutModel",
      "_view_count": null,
      "_view_module": "@jupyter-widgets/base",
      "_view_module_version": "1.2.0",
      "_view_name": "LayoutView",
      "align_content": null,
      "align_items": null,
      "align_self": null,
      "border": null,
      "bottom": null,
      "display": null,
      "flex": null,
      "flex_flow": null,
      "grid_area": null,
      "grid_auto_columns": null,
      "grid_auto_flow": null,
      "grid_auto_rows": null,
      "grid_column": null,
      "grid_gap": null,
      "grid_row": null,
      "grid_template_areas": null,
      "grid_template_columns": null,
      "grid_template_rows": null,
      "height": null,
      "justify_content": null,
      "justify_items": null,
      "left": null,
      "margin": null,
      "max_height": null,
      "max_width": null,
      "min_height": null,
      "min_width": null,
      "object_fit": null,
      "object_position": null,
      "order": null,
      "overflow": null,
      "overflow_x": null,
      "overflow_y": null,
      "padding": null,
      "right": null,
      "top": null,
      "visibility": null,
      "width": null
     }
    },
    "bc63f2971925488c8ed87a86fd68c437": {
     "model_module": "@jupyter-widgets/controls",
     "model_module_version": "1.5.0",
     "model_name": "HBoxModel",
     "state": {
      "_dom_classes": [],
      "_model_module": "@jupyter-widgets/controls",
      "_model_module_version": "1.5.0",
      "_model_name": "HBoxModel",
      "_view_count": null,
      "_view_module": "@jupyter-widgets/controls",
      "_view_module_version": "1.5.0",
      "_view_name": "HBoxView",
      "box_style": "",
      "children": [
       "IPY_MODEL_5869fc87647e46cc9c3d64473daef6e1",
       "IPY_MODEL_52d90f63ca3f4551bb587b39b1b6a7fc",
       "IPY_MODEL_4d6d16c2b6134329886e5c8b74b7a718"
      ],
      "layout": "IPY_MODEL_12168d5601d6445ba95a92575f985b67"
     }
    },
    "c658b749adab4e7a870ecd0bfcd9fe52": {
     "model_module": "@jupyter-widgets/controls",
     "model_module_version": "1.5.0",
     "model_name": "FloatProgressModel",
     "state": {
      "_dom_classes": [],
      "_model_module": "@jupyter-widgets/controls",
      "_model_module_version": "1.5.0",
      "_model_name": "FloatProgressModel",
      "_view_count": null,
      "_view_module": "@jupyter-widgets/controls",
      "_view_module_version": "1.5.0",
      "_view_name": "ProgressView",
      "bar_style": "success",
      "description": "",
      "description_tooltip": null,
      "layout": "IPY_MODEL_add931d9c1644dd691b1a01d4b8ac652",
      "max": 36,
      "min": 0,
      "orientation": "horizontal",
      "style": "IPY_MODEL_ec0345cfa2254649ac13363488929df5",
      "value": 36
     }
    },
    "ca328999aa3e42309363a8b8747131ff": {
     "model_module": "@jupyter-widgets/base",
     "model_module_version": "1.2.0",
     "model_name": "LayoutModel",
     "state": {
      "_model_module": "@jupyter-widgets/base",
      "_model_module_version": "1.2.0",
      "_model_name": "LayoutModel",
      "_view_count": null,
      "_view_module": "@jupyter-widgets/base",
      "_view_module_version": "1.2.0",
      "_view_name": "LayoutView",
      "align_content": null,
      "align_items": null,
      "align_self": null,
      "border": null,
      "bottom": null,
      "display": null,
      "flex": null,
      "flex_flow": null,
      "grid_area": null,
      "grid_auto_columns": null,
      "grid_auto_flow": null,
      "grid_auto_rows": null,
      "grid_column": null,
      "grid_gap": null,
      "grid_row": null,
      "grid_template_areas": null,
      "grid_template_columns": null,
      "grid_template_rows": null,
      "height": null,
      "justify_content": null,
      "justify_items": null,
      "left": null,
      "margin": null,
      "max_height": null,
      "max_width": null,
      "min_height": null,
      "min_width": null,
      "object_fit": null,
      "object_position": null,
      "order": null,
      "overflow": null,
      "overflow_x": null,
      "overflow_y": null,
      "padding": null,
      "right": null,
      "top": null,
      "visibility": null,
      "width": null
     }
    },
    "d3020eee9af3433b821c562d8362349e": {
     "model_module": "@jupyter-widgets/controls",
     "model_module_version": "1.5.0",
     "model_name": "DescriptionStyleModel",
     "state": {
      "_model_module": "@jupyter-widgets/controls",
      "_model_module_version": "1.5.0",
      "_model_name": "DescriptionStyleModel",
      "_view_count": null,
      "_view_module": "@jupyter-widgets/base",
      "_view_module_version": "1.2.0",
      "_view_name": "StyleView",
      "description_width": ""
     }
    },
    "d5c69679fc13411baef6f92b79431d8d": {
     "model_module": "@jupyter-widgets/base",
     "model_module_version": "1.2.0",
     "model_name": "LayoutModel",
     "state": {
      "_model_module": "@jupyter-widgets/base",
      "_model_module_version": "1.2.0",
      "_model_name": "LayoutModel",
      "_view_count": null,
      "_view_module": "@jupyter-widgets/base",
      "_view_module_version": "1.2.0",
      "_view_name": "LayoutView",
      "align_content": null,
      "align_items": null,
      "align_self": null,
      "border": null,
      "bottom": null,
      "display": null,
      "flex": null,
      "flex_flow": null,
      "grid_area": null,
      "grid_auto_columns": null,
      "grid_auto_flow": null,
      "grid_auto_rows": null,
      "grid_column": null,
      "grid_gap": null,
      "grid_row": null,
      "grid_template_areas": null,
      "grid_template_columns": null,
      "grid_template_rows": null,
      "height": null,
      "justify_content": null,
      "justify_items": null,
      "left": null,
      "margin": null,
      "max_height": null,
      "max_width": null,
      "min_height": null,
      "min_width": null,
      "object_fit": null,
      "object_position": null,
      "order": null,
      "overflow": null,
      "overflow_x": null,
      "overflow_y": null,
      "padding": null,
      "right": null,
      "top": null,
      "visibility": null,
      "width": null
     }
    },
    "ec0345cfa2254649ac13363488929df5": {
     "model_module": "@jupyter-widgets/controls",
     "model_module_version": "1.5.0",
     "model_name": "ProgressStyleModel",
     "state": {
      "_model_module": "@jupyter-widgets/controls",
      "_model_module_version": "1.5.0",
      "_model_name": "ProgressStyleModel",
      "_view_count": null,
      "_view_module": "@jupyter-widgets/base",
      "_view_module_version": "1.2.0",
      "_view_name": "StyleView",
      "bar_color": null,
      "description_width": ""
     }
    },
    "f8b653e6029448888a77bf46b4bb8e38": {
     "model_module": "@jupyter-widgets/base",
     "model_module_version": "1.2.0",
     "model_name": "LayoutModel",
     "state": {
      "_model_module": "@jupyter-widgets/base",
      "_model_module_version": "1.2.0",
      "_model_name": "LayoutModel",
      "_view_count": null,
      "_view_module": "@jupyter-widgets/base",
      "_view_module_version": "1.2.0",
      "_view_name": "LayoutView",
      "align_content": null,
      "align_items": null,
      "align_self": null,
      "border": null,
      "bottom": null,
      "display": null,
      "flex": null,
      "flex_flow": null,
      "grid_area": null,
      "grid_auto_columns": null,
      "grid_auto_flow": null,
      "grid_auto_rows": null,
      "grid_column": null,
      "grid_gap": null,
      "grid_row": null,
      "grid_template_areas": null,
      "grid_template_columns": null,
      "grid_template_rows": null,
      "height": null,
      "justify_content": null,
      "justify_items": null,
      "left": null,
      "margin": null,
      "max_height": null,
      "max_width": null,
      "min_height": null,
      "min_width": null,
      "object_fit": null,
      "object_position": null,
      "order": null,
      "overflow": null,
      "overflow_x": null,
      "overflow_y": null,
      "padding": null,
      "right": null,
      "top": null,
      "visibility": null,
      "width": null
     }
    }
   }
  }
 },
 "nbformat": 4,
 "nbformat_minor": 5
}